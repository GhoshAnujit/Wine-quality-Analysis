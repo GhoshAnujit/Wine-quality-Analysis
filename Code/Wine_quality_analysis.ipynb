{
 "cells": [
  {
   "cell_type": "markdown",
   "id": "e4828fcc",
   "metadata": {},
   "source": [
    "## WINE QUALITY ANALYSIS"
   ]
  },
  {
   "cell_type": "markdown",
   "id": "a1baf01f",
   "metadata": {},
   "source": [
    "Importing the necessary libraries:"
   ]
  },
  {
   "cell_type": "code",
   "execution_count": 4,
   "id": "4f5ca7e2",
   "metadata": {
    "lines_to_next_cell": 2
   },
   "outputs": [],
   "source": [
    "import pandas as pd\n",
    "import numpy as np\n",
    "import matplotlib.pyplot as plt\n",
    "import seaborn as sns\n",
    "from sklearn.model_selection import train_test_split\n",
    "from sklearn.ensemble import RandomForestClassifier\n",
    "from sklearn.metrics import accuracy_score"
   ]
  },
  {
   "cell_type": "markdown",
   "id": "e3451139",
   "metadata": {},
   "source": [
    "Importing the csv file\n"
   ]
  },
  {
   "cell_type": "code",
   "execution_count": 5,
   "id": "77f2f3b8",
   "metadata": {
    "lines_to_next_cell": 2
   },
   "outputs": [
    {
     "data": {
      "text/html": [
       "<div>\n",
       "<style scoped>\n",
       "    .dataframe tbody tr th:only-of-type {\n",
       "        vertical-align: middle;\n",
       "    }\n",
       "\n",
       "    .dataframe tbody tr th {\n",
       "        vertical-align: top;\n",
       "    }\n",
       "\n",
       "    .dataframe thead th {\n",
       "        text-align: right;\n",
       "    }\n",
       "</style>\n",
       "<table border=\"1\" class=\"dataframe\">\n",
       "  <thead>\n",
       "    <tr style=\"text-align: right;\">\n",
       "      <th></th>\n",
       "      <th>fixed acidity</th>\n",
       "      <th>volatile acidity</th>\n",
       "      <th>citric acid</th>\n",
       "      <th>residual sugar</th>\n",
       "      <th>chlorides</th>\n",
       "      <th>free sulfur dioxide</th>\n",
       "      <th>total sulfur dioxide</th>\n",
       "      <th>density</th>\n",
       "      <th>pH</th>\n",
       "      <th>sulphates</th>\n",
       "      <th>alcohol</th>\n",
       "      <th>quality</th>\n",
       "    </tr>\n",
       "  </thead>\n",
       "  <tbody>\n",
       "    <tr>\n",
       "      <th>0</th>\n",
       "      <td>7.4</td>\n",
       "      <td>0.70</td>\n",
       "      <td>0.00</td>\n",
       "      <td>1.9</td>\n",
       "      <td>0.076</td>\n",
       "      <td>11.0</td>\n",
       "      <td>34.0</td>\n",
       "      <td>0.9978</td>\n",
       "      <td>3.51</td>\n",
       "      <td>0.56</td>\n",
       "      <td>9.4</td>\n",
       "      <td>5.0</td>\n",
       "    </tr>\n",
       "    <tr>\n",
       "      <th>1</th>\n",
       "      <td>7.8</td>\n",
       "      <td>0.88</td>\n",
       "      <td>0.00</td>\n",
       "      <td>2.6</td>\n",
       "      <td>0.098</td>\n",
       "      <td>25.0</td>\n",
       "      <td>67.0</td>\n",
       "      <td>0.9968</td>\n",
       "      <td>3.20</td>\n",
       "      <td>0.68</td>\n",
       "      <td>9.8</td>\n",
       "      <td>5.0</td>\n",
       "    </tr>\n",
       "    <tr>\n",
       "      <th>2</th>\n",
       "      <td>7.8</td>\n",
       "      <td>0.76</td>\n",
       "      <td>0.04</td>\n",
       "      <td>2.3</td>\n",
       "      <td>0.092</td>\n",
       "      <td>15.0</td>\n",
       "      <td>54.0</td>\n",
       "      <td>0.9970</td>\n",
       "      <td>3.26</td>\n",
       "      <td>0.65</td>\n",
       "      <td>9.8</td>\n",
       "      <td>5.0</td>\n",
       "    </tr>\n",
       "    <tr>\n",
       "      <th>3</th>\n",
       "      <td>11.2</td>\n",
       "      <td>0.28</td>\n",
       "      <td>0.56</td>\n",
       "      <td>1.9</td>\n",
       "      <td>0.075</td>\n",
       "      <td>17.0</td>\n",
       "      <td>60.0</td>\n",
       "      <td>0.9980</td>\n",
       "      <td>3.16</td>\n",
       "      <td>0.58</td>\n",
       "      <td>9.8</td>\n",
       "      <td>6.0</td>\n",
       "    </tr>\n",
       "    <tr>\n",
       "      <th>4</th>\n",
       "      <td>7.4</td>\n",
       "      <td>0.70</td>\n",
       "      <td>0.00</td>\n",
       "      <td>1.9</td>\n",
       "      <td>0.076</td>\n",
       "      <td>11.0</td>\n",
       "      <td>34.0</td>\n",
       "      <td>0.9978</td>\n",
       "      <td>3.51</td>\n",
       "      <td>0.56</td>\n",
       "      <td>9.4</td>\n",
       "      <td>5.0</td>\n",
       "    </tr>\n",
       "  </tbody>\n",
       "</table>\n",
       "</div>"
      ],
      "text/plain": [
       "   fixed acidity  volatile acidity  citric acid  residual sugar  chlorides  \\\n",
       "0            7.4              0.70         0.00             1.9      0.076   \n",
       "1            7.8              0.88         0.00             2.6      0.098   \n",
       "2            7.8              0.76         0.04             2.3      0.092   \n",
       "3           11.2              0.28         0.56             1.9      0.075   \n",
       "4            7.4              0.70         0.00             1.9      0.076   \n",
       "\n",
       "   free sulfur dioxide  total sulfur dioxide  density    pH  sulphates  \\\n",
       "0                 11.0                  34.0   0.9978  3.51       0.56   \n",
       "1                 25.0                  67.0   0.9968  3.20       0.68   \n",
       "2                 15.0                  54.0   0.9970  3.26       0.65   \n",
       "3                 17.0                  60.0   0.9980  3.16       0.58   \n",
       "4                 11.0                  34.0   0.9978  3.51       0.56   \n",
       "\n",
       "   alcohol  quality  \n",
       "0      9.4      5.0  \n",
       "1      9.8      5.0  \n",
       "2      9.8      5.0  \n",
       "3      9.8      6.0  \n",
       "4      9.4      5.0  "
      ]
     },
     "execution_count": 5,
     "metadata": {},
     "output_type": "execute_result"
    }
   ],
   "source": [
    "df = pd.read_csv(\"Wine_quality.csv\")\n",
    "\n",
    "df.head()"
   ]
  },
  {
   "cell_type": "code",
   "execution_count": 6,
   "id": "90aedd33",
   "metadata": {
    "lines_to_next_cell": 2
   },
   "outputs": [
    {
     "data": {
      "text/plain": [
       "(1599, 12)"
      ]
     },
     "execution_count": 6,
     "metadata": {},
     "output_type": "execute_result"
    }
   ],
   "source": [
    "df.shape"
   ]
  },
  {
   "cell_type": "markdown",
   "id": "143b5097",
   "metadata": {},
   "source": [
    "Checking which indexes have quality greater than or equal to 7"
   ]
  },
  {
   "cell_type": "code",
   "execution_count": 46,
   "id": "aca0393a",
   "metadata": {},
   "outputs": [
    {
     "name": "stdout",
     "output_type": "stream",
     "text": [
      "Int64Index([   7,    8,   16,   37,   62,  128,  198,  200,  205,  206,\n",
      "            ...\n",
      "            1468, 1475, 1477, 1494, 1534, 1541, 1544, 1549, 1555, 1584],\n",
      "           dtype='int64', length=217)\n"
     ]
    }
   ],
   "source": [
    "filtered = df[df['quality']>=7]\n",
    "print(filtered.index)"
   ]
  },
  {
   "cell_type": "markdown",
   "id": "563c3925",
   "metadata": {},
   "source": [
    "Later we will use 7 as the quality for good wine"
   ]
  },
  {
   "cell_type": "code",
   "execution_count": 47,
   "id": "fbc23bd9",
   "metadata": {},
   "outputs": [
    {
     "name": "stdout",
     "output_type": "stream",
     "text": [
      "fixed acidity           7.3000\n",
      "volatile acidity        0.6500\n",
      "citric acid             0.0000\n",
      "residual sugar          1.2000\n",
      "chlorides               0.0650\n",
      "free sulfur dioxide    15.0000\n",
      "TotalSulphurDioxide    21.0000\n",
      "density                 0.9946\n",
      "pH                      3.3900\n",
      "sulphates               0.4700\n",
      "alcohol                10.0000\n",
      "quality                 7.0000\n",
      "Name: 7, dtype: float64\n"
     ]
    }
   ],
   "source": [
    "print(df.iloc[7])"
   ]
  },
  {
   "cell_type": "markdown",
   "id": "244cc3c5",
   "metadata": {},
   "source": [
    "Checking for null values"
   ]
  },
  {
   "cell_type": "code",
   "execution_count": 7,
   "id": "28bc7e00",
   "metadata": {
    "lines_to_next_cell": 2
   },
   "outputs": [
    {
     "data": {
      "text/plain": [
       "fixed acidity           0\n",
       "volatile acidity        0\n",
       "citric acid             0\n",
       "residual sugar          0\n",
       "chlorides               0\n",
       "free sulfur dioxide     0\n",
       "total sulfur dioxide    1\n",
       "density                 0\n",
       "pH                      1\n",
       "sulphates               0\n",
       "alcohol                 0\n",
       "quality                 1\n",
       "dtype: int64"
      ]
     },
     "execution_count": 7,
     "metadata": {},
     "output_type": "execute_result"
    }
   ],
   "source": [
    "df.isna().sum()"
   ]
  },
  {
   "cell_type": "markdown",
   "id": "89b29193",
   "metadata": {},
   "source": [
    "Particular rows with null values"
   ]
  },
  {
   "cell_type": "code",
   "execution_count": 8,
   "id": "cc2c788e",
   "metadata": {
    "lines_to_next_cell": 2
   },
   "outputs": [
    {
     "name": "stdout",
     "output_type": "stream",
     "text": [
      "     fixed acidity  volatile acidity  citric acid  residual sugar  chlorides  \\\n",
      "9              7.5              0.50         0.36             6.1      0.071   \n",
      "123            8.0              0.71         0.00             2.6      0.080   \n",
      "184            6.7              0.62         0.21             1.9      0.079   \n",
      "\n",
      "     free sulfur dioxide  total sulfur dioxide  density    pH  sulphates  \\\n",
      "9                   17.0                   NaN   0.9978  3.35       0.80   \n",
      "123                 11.0                  34.0   0.9976  3.44       0.53   \n",
      "184                  8.0                  62.0   0.9970   NaN       0.58   \n",
      "\n",
      "     alcohol  quality  \n",
      "9       10.5      5.0  \n",
      "123      9.5      NaN  \n",
      "184      9.3      6.0  \n"
     ]
    }
   ],
   "source": [
    "print(df[df.isnull().any(axis = 1)])"
   ]
  },
  {
   "cell_type": "markdown",
   "id": "f60290df",
   "metadata": {},
   "source": [
    "Renaming the \"total sulphur dioxide\" column "
   ]
  },
  {
   "cell_type": "code",
   "execution_count": 9,
   "id": "ea6b8b93",
   "metadata": {
    "lines_to_next_cell": 2
   },
   "outputs": [],
   "source": [
    "df.rename(columns = {'total sulfur dioxide':'TotalSulphurDioxide'}, inplace = True)"
   ]
  },
  {
   "cell_type": "markdown",
   "id": "bbb1a029",
   "metadata": {},
   "source": [
    "Removing the row with null value in the quality column\n"
   ]
  },
  {
   "cell_type": "code",
   "execution_count": 10,
   "id": "a36ada1f",
   "metadata": {
    "lines_to_next_cell": 2
   },
   "outputs": [],
   "source": [
    "df = df.dropna(subset=['quality'])"
   ]
  },
  {
   "cell_type": "markdown",
   "id": "5124c4e9",
   "metadata": {},
   "source": [
    "Replacing the null values with the mean values of the particular column"
   ]
  },
  {
   "cell_type": "code",
   "execution_count": 11,
   "id": "5c316e9e",
   "metadata": {},
   "outputs": [],
   "source": [
    "df.pH.fillna(df.pH.mean(), inplace=True)\n",
    "df.TotalSulphurDioxide.fillna(df.TotalSulphurDioxide.mean(), inplace=True)"
   ]
  },
  {
   "cell_type": "code",
   "execution_count": 12,
   "id": "57df9fdc",
   "metadata": {
    "lines_to_next_cell": 2
   },
   "outputs": [
    {
     "data": {
      "text/plain": [
       "fixed acidity          0\n",
       "volatile acidity       0\n",
       "citric acid            0\n",
       "residual sugar         0\n",
       "chlorides              0\n",
       "free sulfur dioxide    0\n",
       "TotalSulphurDioxide    0\n",
       "density                0\n",
       "pH                     0\n",
       "sulphates              0\n",
       "alcohol                0\n",
       "quality                0\n",
       "dtype: int64"
      ]
     },
     "execution_count": 12,
     "metadata": {},
     "output_type": "execute_result"
    }
   ],
   "source": [
    "df.isna().sum()"
   ]
  },
  {
   "cell_type": "markdown",
   "id": "faa1340e",
   "metadata": {},
   "source": [
    "All the null values are hence removed"
   ]
  },
  {
   "cell_type": "markdown",
   "id": "dae38324",
   "metadata": {},
   "source": [
    "1. Data analysis and visualization\n",
    "2. Statistical measures"
   ]
  },
  {
   "cell_type": "code",
   "execution_count": 13,
   "id": "51087c61",
   "metadata": {
    "lines_to_next_cell": 2
   },
   "outputs": [
    {
     "data": {
      "text/html": [
       "<div>\n",
       "<style scoped>\n",
       "    .dataframe tbody tr th:only-of-type {\n",
       "        vertical-align: middle;\n",
       "    }\n",
       "\n",
       "    .dataframe tbody tr th {\n",
       "        vertical-align: top;\n",
       "    }\n",
       "\n",
       "    .dataframe thead th {\n",
       "        text-align: right;\n",
       "    }\n",
       "</style>\n",
       "<table border=\"1\" class=\"dataframe\">\n",
       "  <thead>\n",
       "    <tr style=\"text-align: right;\">\n",
       "      <th></th>\n",
       "      <th>fixed acidity</th>\n",
       "      <th>volatile acidity</th>\n",
       "      <th>citric acid</th>\n",
       "      <th>residual sugar</th>\n",
       "      <th>chlorides</th>\n",
       "      <th>free sulfur dioxide</th>\n",
       "      <th>TotalSulphurDioxide</th>\n",
       "      <th>density</th>\n",
       "      <th>pH</th>\n",
       "      <th>sulphates</th>\n",
       "      <th>alcohol</th>\n",
       "      <th>quality</th>\n",
       "    </tr>\n",
       "  </thead>\n",
       "  <tbody>\n",
       "    <tr>\n",
       "      <th>count</th>\n",
       "      <td>1598.000000</td>\n",
       "      <td>1598.000000</td>\n",
       "      <td>1598.000000</td>\n",
       "      <td>1598.000000</td>\n",
       "      <td>1598.000000</td>\n",
       "      <td>1598.000000</td>\n",
       "      <td>1598.000000</td>\n",
       "      <td>1598.000000</td>\n",
       "      <td>1598.000000</td>\n",
       "      <td>1598.000000</td>\n",
       "      <td>1598.000000</td>\n",
       "      <td>1598.000000</td>\n",
       "    </tr>\n",
       "    <tr>\n",
       "      <th>mean</th>\n",
       "      <td>8.319837</td>\n",
       "      <td>0.527707</td>\n",
       "      <td>0.271145</td>\n",
       "      <td>2.538767</td>\n",
       "      <td>0.087471</td>\n",
       "      <td>15.877972</td>\n",
       "      <td>46.440827</td>\n",
       "      <td>0.996746</td>\n",
       "      <td>3.498622</td>\n",
       "      <td>0.658229</td>\n",
       "      <td>10.423561</td>\n",
       "      <td>5.636421</td>\n",
       "    </tr>\n",
       "    <tr>\n",
       "      <th>std</th>\n",
       "      <td>1.741623</td>\n",
       "      <td>0.179058</td>\n",
       "      <td>0.194744</td>\n",
       "      <td>1.410369</td>\n",
       "      <td>0.047080</td>\n",
       "      <td>10.462720</td>\n",
       "      <td>32.874776</td>\n",
       "      <td>0.001888</td>\n",
       "      <td>0.080333</td>\n",
       "      <td>0.169530</td>\n",
       "      <td>1.065751</td>\n",
       "      <td>0.807665</td>\n",
       "    </tr>\n",
       "    <tr>\n",
       "      <th>min</th>\n",
       "      <td>4.600000</td>\n",
       "      <td>0.120000</td>\n",
       "      <td>0.000000</td>\n",
       "      <td>0.900000</td>\n",
       "      <td>0.012000</td>\n",
       "      <td>1.000000</td>\n",
       "      <td>6.000000</td>\n",
       "      <td>0.990070</td>\n",
       "      <td>2.740000</td>\n",
       "      <td>0.330000</td>\n",
       "      <td>8.400000</td>\n",
       "      <td>3.000000</td>\n",
       "    </tr>\n",
       "    <tr>\n",
       "      <th>25%</th>\n",
       "      <td>7.100000</td>\n",
       "      <td>0.390000</td>\n",
       "      <td>0.090000</td>\n",
       "      <td>1.900000</td>\n",
       "      <td>0.070000</td>\n",
       "      <td>7.000000</td>\n",
       "      <td>22.000000</td>\n",
       "      <td>0.995600</td>\n",
       "      <td>3.520000</td>\n",
       "      <td>0.550000</td>\n",
       "      <td>9.500000</td>\n",
       "      <td>5.000000</td>\n",
       "    </tr>\n",
       "    <tr>\n",
       "      <th>50%</th>\n",
       "      <td>7.900000</td>\n",
       "      <td>0.520000</td>\n",
       "      <td>0.260000</td>\n",
       "      <td>2.200000</td>\n",
       "      <td>0.079000</td>\n",
       "      <td>14.000000</td>\n",
       "      <td>38.000000</td>\n",
       "      <td>0.996750</td>\n",
       "      <td>3.520000</td>\n",
       "      <td>0.620000</td>\n",
       "      <td>10.200000</td>\n",
       "      <td>6.000000</td>\n",
       "    </tr>\n",
       "    <tr>\n",
       "      <th>75%</th>\n",
       "      <td>9.200000</td>\n",
       "      <td>0.640000</td>\n",
       "      <td>0.420000</td>\n",
       "      <td>2.600000</td>\n",
       "      <td>0.090000</td>\n",
       "      <td>21.000000</td>\n",
       "      <td>62.000000</td>\n",
       "      <td>0.997837</td>\n",
       "      <td>3.520000</td>\n",
       "      <td>0.730000</td>\n",
       "      <td>11.100000</td>\n",
       "      <td>6.000000</td>\n",
       "    </tr>\n",
       "    <tr>\n",
       "      <th>max</th>\n",
       "      <td>15.900000</td>\n",
       "      <td>1.580000</td>\n",
       "      <td>1.000000</td>\n",
       "      <td>15.500000</td>\n",
       "      <td>0.611000</td>\n",
       "      <td>72.000000</td>\n",
       "      <td>289.000000</td>\n",
       "      <td>1.003690</td>\n",
       "      <td>3.900000</td>\n",
       "      <td>2.000000</td>\n",
       "      <td>14.900000</td>\n",
       "      <td>8.000000</td>\n",
       "    </tr>\n",
       "  </tbody>\n",
       "</table>\n",
       "</div>"
      ],
      "text/plain": [
       "       fixed acidity  volatile acidity  citric acid  residual sugar  \\\n",
       "count    1598.000000       1598.000000  1598.000000     1598.000000   \n",
       "mean        8.319837          0.527707     0.271145        2.538767   \n",
       "std         1.741623          0.179058     0.194744        1.410369   \n",
       "min         4.600000          0.120000     0.000000        0.900000   \n",
       "25%         7.100000          0.390000     0.090000        1.900000   \n",
       "50%         7.900000          0.520000     0.260000        2.200000   \n",
       "75%         9.200000          0.640000     0.420000        2.600000   \n",
       "max        15.900000          1.580000     1.000000       15.500000   \n",
       "\n",
       "         chlorides  free sulfur dioxide  TotalSulphurDioxide      density  \\\n",
       "count  1598.000000          1598.000000          1598.000000  1598.000000   \n",
       "mean      0.087471            15.877972            46.440827     0.996746   \n",
       "std       0.047080            10.462720            32.874776     0.001888   \n",
       "min       0.012000             1.000000             6.000000     0.990070   \n",
       "25%       0.070000             7.000000            22.000000     0.995600   \n",
       "50%       0.079000            14.000000            38.000000     0.996750   \n",
       "75%       0.090000            21.000000            62.000000     0.997837   \n",
       "max       0.611000            72.000000           289.000000     1.003690   \n",
       "\n",
       "                pH    sulphates      alcohol      quality  \n",
       "count  1598.000000  1598.000000  1598.000000  1598.000000  \n",
       "mean      3.498622     0.658229    10.423561     5.636421  \n",
       "std       0.080333     0.169530     1.065751     0.807665  \n",
       "min       2.740000     0.330000     8.400000     3.000000  \n",
       "25%       3.520000     0.550000     9.500000     5.000000  \n",
       "50%       3.520000     0.620000    10.200000     6.000000  \n",
       "75%       3.520000     0.730000    11.100000     6.000000  \n",
       "max       3.900000     2.000000    14.900000     8.000000  "
      ]
     },
     "execution_count": 13,
     "metadata": {},
     "output_type": "execute_result"
    }
   ],
   "source": [
    "df.describe()"
   ]
  },
  {
   "cell_type": "markdown",
   "id": "593d3bcc",
   "metadata": {},
   "source": [
    "Number of values for each quality"
   ]
  },
  {
   "cell_type": "code",
   "execution_count": 14,
   "id": "8e7b8baa",
   "metadata": {
    "lines_to_next_cell": 2
   },
   "outputs": [
    {
     "data": {
      "text/plain": [
       "<seaborn.axisgrid.FacetGrid at 0x1cc4a01aa60>"
      ]
     },
     "execution_count": 14,
     "metadata": {},
     "output_type": "execute_result"
    },
    {
     "data": {
      "image/png": "[encoded data removed]",
      "text/plain": [
       "<Figure size 360x360 with 1 Axes>"
      ]
     },
     "metadata": {
      "needs_background": "light"
     },
     "output_type": "display_data"
    }
   ],
   "source": [
    "sns.catplot(x ='quality', data = df , kind = 'count' )"
   ]
  },
  {
   "cell_type": "markdown",
   "id": "2f4b07af",
   "metadata": {},
   "source": [
    "Volatile acidity and quality"
   ]
  },
  {
   "cell_type": "code",
   "execution_count": 15,
   "id": "90dbb926",
   "metadata": {
    "lines_to_next_cell": 2
   },
   "outputs": [
    {
     "data": {
      "text/plain": [
       "<AxesSubplot:xlabel='quality', ylabel='volatile acidity'>"
      ]
     },
     "execution_count": 15,
     "metadata": {},
     "output_type": "execute_result"
    },
    {
     "data": {
      "image/png": "[encoded data removed]",
      "text/plain": [
       "<Figure size 432x432 with 1 Axes>"
      ]
     },
     "metadata": {
      "needs_background": "light"
     },
     "output_type": "display_data"
    }
   ],
   "source": [
    "plot = plt.figure(figsize = (6,6))\n",
    "sns.barplot(x = 'quality', y = \"volatile acidity\", data = df)"
   ]
  },
  {
   "cell_type": "markdown",
   "id": "f901ee7f",
   "metadata": {},
   "source": [
    "Citric acid and quality"
   ]
  },
  {
   "cell_type": "code",
   "execution_count": 16,
   "id": "e56fc803",
   "metadata": {
    "lines_to_next_cell": 2
   },
   "outputs": [
    {
     "data": {
      "text/plain": [
       "<AxesSubplot:xlabel='quality', ylabel='citric acid'>"
      ]
     },
     "execution_count": 16,
     "metadata": {},
     "output_type": "execute_result"
    },
    {
     "data": {
      "image/png": "[encoded data removed]",
      "text/plain": [
       "<Figure size 432x432 with 1 Axes>"
      ]
     },
     "metadata": {
      "needs_background": "light"
     },
     "output_type": "display_data"
    }
   ],
   "source": [
    "plot = plt.figure(figsize = (6,6))\n",
    "sns.barplot(x = 'quality', y = \"citric acid\", data = df)"
   ]
  },
  {
   "cell_type": "markdown",
   "id": "3b810a00",
   "metadata": {},
   "source": [
    "Residual sugar and quality\n"
   ]
  },
  {
   "cell_type": "code",
   "execution_count": 17,
   "id": "5b235f76",
   "metadata": {
    "lines_to_next_cell": 2
   },
   "outputs": [
    {
     "data": {
      "text/plain": [
       "<AxesSubplot:xlabel='quality', ylabel='residual sugar'>"
      ]
     },
     "execution_count": 17,
     "metadata": {},
     "output_type": "execute_result"
    },
    {
     "data": {
      "image/png": "[encoded data removed]",
      "text/plain": [
       "<Figure size 432x432 with 1 Axes>"
      ]
     },
     "metadata": {
      "needs_background": "light"
     },
     "output_type": "display_data"
    }
   ],
   "source": [
    "plot = plt.figure(figsize = (6,6))\n",
    "sns.barplot(x = 'quality', y = \"residual sugar\", data = df)"
   ]
  },
  {
   "cell_type": "markdown",
   "id": "a0d49690",
   "metadata": {},
   "source": [
    "Chlorides and quality"
   ]
  },
  {
   "cell_type": "code",
   "execution_count": 18,
   "id": "1dcb9c3a",
   "metadata": {
    "lines_to_next_cell": 2
   },
   "outputs": [
    {
     "data": {
      "text/plain": [
       "<AxesSubplot:xlabel='quality', ylabel='chlorides'>"
      ]
     },
     "execution_count": 18,
     "metadata": {},
     "output_type": "execute_result"
    },
    {
     "data": {
      "image/png": "[encoded data removed]",
      "text/plain": [
       "<Figure size 432x432 with 1 Axes>"
      ]
     },
     "metadata": {
      "needs_background": "light"
     },
     "output_type": "display_data"
    }
   ],
   "source": [
    "plot = plt.figure(figsize = (6,6))\n",
    "sns.barplot(x = 'quality', y = \"chlorides\", data = df)"
   ]
  },
  {
   "cell_type": "markdown",
   "id": "c52a6956",
   "metadata": {},
   "source": [
    "Free sulphur dioxide and quality\n"
   ]
  },
  {
   "cell_type": "code",
   "execution_count": 19,
   "id": "46bda42c",
   "metadata": {
    "lines_to_next_cell": 2
   },
   "outputs": [
    {
     "data": {
      "text/plain": [
       "<AxesSubplot:xlabel='quality', ylabel='free sulfur dioxide'>"
      ]
     },
     "execution_count": 19,
     "metadata": {},
     "output_type": "execute_result"
    },
    {
     "data": {
      "image/png": "[encoded data removed]",
      "text/plain": [
       "<Figure size 432x432 with 1 Axes>"
      ]
     },
     "metadata": {
      "needs_background": "light"
     },
     "output_type": "display_data"
    }
   ],
   "source": [
    "plot = plt.figure(figsize = (6,6))\n",
    "sns.barplot(x = 'quality', y = \"free sulfur dioxide\", data = df)"
   ]
  },
  {
   "cell_type": "markdown",
   "id": "79339694",
   "metadata": {},
   "source": [
    "TotalSulphurDioxide and quality\n"
   ]
  },
  {
   "cell_type": "code",
   "execution_count": 20,
   "id": "16c63478",
   "metadata": {
    "lines_to_next_cell": 2
   },
   "outputs": [
    {
     "data": {
      "text/plain": [
       "<AxesSubplot:xlabel='quality', ylabel='TotalSulphurDioxide'>"
      ]
     },
     "execution_count": 20,
     "metadata": {},
     "output_type": "execute_result"
    },
    {
     "data": {
      "image/png": "[encoded data removed]",
      "text/plain": [
       "<Figure size 432x432 with 1 Axes>"
      ]
     },
     "metadata": {
      "needs_background": "light"
     },
     "output_type": "display_data"
    }
   ],
   "source": [
    "plot = plt.figure(figsize = (6,6))\n",
    "sns.barplot(x = 'quality', y = \"TotalSulphurDioxide\", data = df)"
   ]
  },
  {
   "cell_type": "markdown",
   "id": "6d683f08",
   "metadata": {},
   "source": [
    "Density and quality"
   ]
  },
  {
   "cell_type": "code",
   "execution_count": 21,
   "id": "6405a24b",
   "metadata": {
    "lines_to_next_cell": 2
   },
   "outputs": [
    {
     "data": {
      "text/plain": [
       "<AxesSubplot:xlabel='quality', ylabel='density'>"
      ]
     },
     "execution_count": 21,
     "metadata": {},
     "output_type": "execute_result"
    },
    {
     "data": {
      "image/png": "[encoded data removed]",
      "text/plain": [
       "<Figure size 432x432 with 1 Axes>"
      ]
     },
     "metadata": {
      "needs_background": "light"
     },
     "output_type": "display_data"
    }
   ],
   "source": [
    "plot = plt.figure(figsize = (6,6))\n",
    "sns.barplot(x = 'quality', y = \"density\", data = df)"
   ]
  },
  {
   "cell_type": "markdown",
   "id": "eaa26411",
   "metadata": {},
   "source": [
    "PH and quality"
   ]
  },
  {
   "cell_type": "code",
   "execution_count": 22,
   "id": "ff6626e8",
   "metadata": {
    "lines_to_next_cell": 2
   },
   "outputs": [
    {
     "data": {
      "text/plain": [
       "<AxesSubplot:xlabel='quality', ylabel='pH'>"
      ]
     },
     "execution_count": 22,
     "metadata": {},
     "output_type": "execute_result"
    },
    {
     "data": {
      "image/png": "[encoded data removed]",
      "text/plain": [
       "<Figure size 432x432 with 1 Axes>"
      ]
     },
     "metadata": {
      "needs_background": "light"
     },
     "output_type": "display_data"
    }
   ],
   "source": [
    "plot = plt.figure(figsize = (6,6))\n",
    "sns.barplot(x = 'quality', y = \"pH\", data = df)"
   ]
  },
  {
   "cell_type": "markdown",
   "id": "f87fee3f",
   "metadata": {},
   "source": [
    "Sulphates and quality"
   ]
  },
  {
   "cell_type": "code",
   "execution_count": 23,
   "id": "a2e8d46c",
   "metadata": {
    "lines_to_next_cell": 2
   },
   "outputs": [
    {
     "data": {
      "text/plain": [
       "<AxesSubplot:xlabel='quality', ylabel='sulphates'>"
      ]
     },
     "execution_count": 23,
     "metadata": {},
     "output_type": "execute_result"
    },
    {
     "data": {
      "image/png": "[encoded data removed]",
      "text/plain": [
       "<Figure size 432x432 with 1 Axes>"
      ]
     },
     "metadata": {
      "needs_background": "light"
     },
     "output_type": "display_data"
    }
   ],
   "source": [
    "plot = plt.figure(figsize = (6,6))\n",
    "sns.barplot(x = 'quality', y = \"sulphates\", data = df)"
   ]
  },
  {
   "cell_type": "markdown",
   "id": "2be60cbe",
   "metadata": {},
   "source": [
    "Alcohol and quality"
   ]
  },
  {
   "cell_type": "code",
   "execution_count": 24,
   "id": "6989e917",
   "metadata": {
    "lines_to_next_cell": 2
   },
   "outputs": [
    {
     "data": {
      "text/plain": [
       "<AxesSubplot:xlabel='quality', ylabel='alcohol'>"
      ]
     },
     "execution_count": 24,
     "metadata": {},
     "output_type": "execute_result"
    },
    {
     "data": {
      "image/png": "[encoded data removed]",
      "text/plain": [
       "<Figure size 432x432 with 1 Axes>"
      ]
     },
     "metadata": {
      "needs_background": "light"
     },
     "output_type": "display_data"
    }
   ],
   "source": [
    "plot = plt.figure(figsize = (6,6))\n",
    "sns.barplot(x = 'quality', y = \"alcohol\", data = df)"
   ]
  },
  {
   "cell_type": "markdown",
   "id": "5ed8862c",
   "metadata": {},
   "source": [
    "Finding the correlation of all the columns to the quality column"
   ]
  },
  {
   "cell_type": "code",
   "execution_count": 25,
   "id": "07690d45",
   "metadata": {
    "lines_to_next_cell": 2
   },
   "outputs": [
    {
     "data": {
      "text/html": [
       "<div>\n",
       "<style scoped>\n",
       "    .dataframe tbody tr th:only-of-type {\n",
       "        vertical-align: middle;\n",
       "    }\n",
       "\n",
       "    .dataframe tbody tr th {\n",
       "        vertical-align: top;\n",
       "    }\n",
       "\n",
       "    .dataframe thead th {\n",
       "        text-align: right;\n",
       "    }\n",
       "</style>\n",
       "<table border=\"1\" class=\"dataframe\">\n",
       "  <thead>\n",
       "    <tr style=\"text-align: right;\">\n",
       "      <th></th>\n",
       "      <th>fixed acidity</th>\n",
       "      <th>volatile acidity</th>\n",
       "      <th>citric acid</th>\n",
       "      <th>residual sugar</th>\n",
       "      <th>chlorides</th>\n",
       "      <th>free sulfur dioxide</th>\n",
       "      <th>TotalSulphurDioxide</th>\n",
       "      <th>density</th>\n",
       "      <th>pH</th>\n",
       "      <th>sulphates</th>\n",
       "      <th>alcohol</th>\n",
       "      <th>quality</th>\n",
       "    </tr>\n",
       "  </thead>\n",
       "  <tbody>\n",
       "    <tr>\n",
       "      <th>fixed acidity</th>\n",
       "      <td>1.000000</td>\n",
       "      <td>-0.256100</td>\n",
       "      <td>0.671958</td>\n",
       "      <td>0.114783</td>\n",
       "      <td>0.093689</td>\n",
       "      <td>-0.153860</td>\n",
       "      <td>-0.112834</td>\n",
       "      <td>0.668149</td>\n",
       "      <td>0.027466</td>\n",
       "      <td>0.182953</td>\n",
       "      <td>-0.061783</td>\n",
       "      <td>0.123987</td>\n",
       "    </tr>\n",
       "    <tr>\n",
       "      <th>volatile acidity</th>\n",
       "      <td>-0.256100</td>\n",
       "      <td>1.000000</td>\n",
       "      <td>-0.552123</td>\n",
       "      <td>0.001891</td>\n",
       "      <td>0.061419</td>\n",
       "      <td>-0.010211</td>\n",
       "      <td>0.076972</td>\n",
       "      <td>0.021747</td>\n",
       "      <td>-0.046010</td>\n",
       "      <td>-0.260636</td>\n",
       "      <td>-0.201849</td>\n",
       "      <td>-0.390258</td>\n",
       "    </tr>\n",
       "    <tr>\n",
       "      <th>citric acid</th>\n",
       "      <td>0.671958</td>\n",
       "      <td>-0.552123</td>\n",
       "      <td>1.000000</td>\n",
       "      <td>0.143702</td>\n",
       "      <td>0.203810</td>\n",
       "      <td>-0.061425</td>\n",
       "      <td>0.034774</td>\n",
       "      <td>0.365586</td>\n",
       "      <td>0.007785</td>\n",
       "      <td>0.312357</td>\n",
       "      <td>0.109241</td>\n",
       "      <td>0.225867</td>\n",
       "    </tr>\n",
       "    <tr>\n",
       "      <th>residual sugar</th>\n",
       "      <td>0.114783</td>\n",
       "      <td>0.001891</td>\n",
       "      <td>0.143702</td>\n",
       "      <td>1.000000</td>\n",
       "      <td>0.055614</td>\n",
       "      <td>0.187074</td>\n",
       "      <td>0.200557</td>\n",
       "      <td>0.355294</td>\n",
       "      <td>0.040037</td>\n",
       "      <td>0.005549</td>\n",
       "      <td>0.042109</td>\n",
       "      <td>0.013756</td>\n",
       "    </tr>\n",
       "    <tr>\n",
       "      <th>chlorides</th>\n",
       "      <td>0.093689</td>\n",
       "      <td>0.061419</td>\n",
       "      <td>0.203810</td>\n",
       "      <td>0.055614</td>\n",
       "      <td>1.000000</td>\n",
       "      <td>0.005516</td>\n",
       "      <td>0.047778</td>\n",
       "      <td>0.200692</td>\n",
       "      <td>-0.258759</td>\n",
       "      <td>0.371255</td>\n",
       "      <td>-0.221280</td>\n",
       "      <td>-0.129011</td>\n",
       "    </tr>\n",
       "    <tr>\n",
       "      <th>free sulfur dioxide</th>\n",
       "      <td>-0.153860</td>\n",
       "      <td>-0.010211</td>\n",
       "      <td>-0.061425</td>\n",
       "      <td>0.187074</td>\n",
       "      <td>0.005516</td>\n",
       "      <td>1.000000</td>\n",
       "      <td>0.668114</td>\n",
       "      <td>-0.021817</td>\n",
       "      <td>-0.025604</td>\n",
       "      <td>0.051450</td>\n",
       "      <td>-0.069682</td>\n",
       "      <td>-0.050899</td>\n",
       "    </tr>\n",
       "    <tr>\n",
       "      <th>TotalSulphurDioxide</th>\n",
       "      <td>-0.112834</td>\n",
       "      <td>0.076972</td>\n",
       "      <td>0.034774</td>\n",
       "      <td>0.200557</td>\n",
       "      <td>0.047778</td>\n",
       "      <td>0.668114</td>\n",
       "      <td>1.000000</td>\n",
       "      <td>0.070858</td>\n",
       "      <td>-0.162798</td>\n",
       "      <td>0.041930</td>\n",
       "      <td>-0.206177</td>\n",
       "      <td>-0.184663</td>\n",
       "    </tr>\n",
       "    <tr>\n",
       "      <th>density</th>\n",
       "      <td>0.668149</td>\n",
       "      <td>0.021747</td>\n",
       "      <td>0.365586</td>\n",
       "      <td>0.355294</td>\n",
       "      <td>0.200692</td>\n",
       "      <td>-0.021817</td>\n",
       "      <td>0.070858</td>\n",
       "      <td>1.000000</td>\n",
       "      <td>-0.037748</td>\n",
       "      <td>0.148757</td>\n",
       "      <td>-0.496083</td>\n",
       "      <td>-0.174741</td>\n",
       "    </tr>\n",
       "    <tr>\n",
       "      <th>pH</th>\n",
       "      <td>0.027466</td>\n",
       "      <td>-0.046010</td>\n",
       "      <td>0.007785</td>\n",
       "      <td>0.040037</td>\n",
       "      <td>-0.258759</td>\n",
       "      <td>-0.025604</td>\n",
       "      <td>-0.162798</td>\n",
       "      <td>-0.037748</td>\n",
       "      <td>1.000000</td>\n",
       "      <td>-0.260943</td>\n",
       "      <td>0.233096</td>\n",
       "      <td>0.133952</td>\n",
       "    </tr>\n",
       "    <tr>\n",
       "      <th>sulphates</th>\n",
       "      <td>0.182953</td>\n",
       "      <td>-0.260636</td>\n",
       "      <td>0.312357</td>\n",
       "      <td>0.005549</td>\n",
       "      <td>0.371255</td>\n",
       "      <td>0.051450</td>\n",
       "      <td>0.041930</td>\n",
       "      <td>0.148757</td>\n",
       "      <td>-0.260943</td>\n",
       "      <td>1.000000</td>\n",
       "      <td>0.093223</td>\n",
       "      <td>0.251118</td>\n",
       "    </tr>\n",
       "    <tr>\n",
       "      <th>alcohol</th>\n",
       "      <td>-0.061783</td>\n",
       "      <td>-0.201849</td>\n",
       "      <td>0.109241</td>\n",
       "      <td>0.042109</td>\n",
       "      <td>-0.221280</td>\n",
       "      <td>-0.069682</td>\n",
       "      <td>-0.206177</td>\n",
       "      <td>-0.496083</td>\n",
       "      <td>0.233096</td>\n",
       "      <td>0.093223</td>\n",
       "      <td>1.000000</td>\n",
       "      <td>0.475943</td>\n",
       "    </tr>\n",
       "    <tr>\n",
       "      <th>quality</th>\n",
       "      <td>0.123987</td>\n",
       "      <td>-0.390258</td>\n",
       "      <td>0.225867</td>\n",
       "      <td>0.013756</td>\n",
       "      <td>-0.129011</td>\n",
       "      <td>-0.050899</td>\n",
       "      <td>-0.184663</td>\n",
       "      <td>-0.174741</td>\n",
       "      <td>0.133952</td>\n",
       "      <td>0.251118</td>\n",
       "      <td>0.475943</td>\n",
       "      <td>1.000000</td>\n",
       "    </tr>\n",
       "  </tbody>\n",
       "</table>\n",
       "</div>"
      ],
      "text/plain": [
       "                     fixed acidity  volatile acidity  citric acid  \\\n",
       "fixed acidity             1.000000         -0.256100     0.671958   \n",
       "volatile acidity         -0.256100          1.000000    -0.552123   \n",
       "citric acid               0.671958         -0.552123     1.000000   \n",
       "residual sugar            0.114783          0.001891     0.143702   \n",
       "chlorides                 0.093689          0.061419     0.203810   \n",
       "free sulfur dioxide      -0.153860         -0.010211    -0.061425   \n",
       "TotalSulphurDioxide      -0.112834          0.076972     0.034774   \n",
       "density                   0.668149          0.021747     0.365586   \n",
       "pH                        0.027466         -0.046010     0.007785   \n",
       "sulphates                 0.182953         -0.260636     0.312357   \n",
       "alcohol                  -0.061783         -0.201849     0.109241   \n",
       "quality                   0.123987         -0.390258     0.225867   \n",
       "\n",
       "                     residual sugar  chlorides  free sulfur dioxide  \\\n",
       "fixed acidity              0.114783   0.093689            -0.153860   \n",
       "volatile acidity           0.001891   0.061419            -0.010211   \n",
       "citric acid                0.143702   0.203810            -0.061425   \n",
       "residual sugar             1.000000   0.055614             0.187074   \n",
       "chlorides                  0.055614   1.000000             0.005516   \n",
       "free sulfur dioxide        0.187074   0.005516             1.000000   \n",
       "TotalSulphurDioxide        0.200557   0.047778             0.668114   \n",
       "density                    0.355294   0.200692            -0.021817   \n",
       "pH                         0.040037  -0.258759            -0.025604   \n",
       "sulphates                  0.005549   0.371255             0.051450   \n",
       "alcohol                    0.042109  -0.221280            -0.069682   \n",
       "quality                    0.013756  -0.129011            -0.050899   \n",
       "\n",
       "                     TotalSulphurDioxide   density        pH  sulphates  \\\n",
       "fixed acidity                  -0.112834  0.668149  0.027466   0.182953   \n",
       "volatile acidity                0.076972  0.021747 -0.046010  -0.260636   \n",
       "citric acid                     0.034774  0.365586  0.007785   0.312357   \n",
       "residual sugar                  0.200557  0.355294  0.040037   0.005549   \n",
       "chlorides                       0.047778  0.200692 -0.258759   0.371255   \n",
       "free sulfur dioxide             0.668114 -0.021817 -0.025604   0.051450   \n",
       "TotalSulphurDioxide             1.000000  0.070858 -0.162798   0.041930   \n",
       "density                         0.070858  1.000000 -0.037748   0.148757   \n",
       "pH                             -0.162798 -0.037748  1.000000  -0.260943   \n",
       "sulphates                       0.041930  0.148757 -0.260943   1.000000   \n",
       "alcohol                        -0.206177 -0.496083  0.233096   0.093223   \n",
       "quality                        -0.184663 -0.174741  0.133952   0.251118   \n",
       "\n",
       "                      alcohol   quality  \n",
       "fixed acidity       -0.061783  0.123987  \n",
       "volatile acidity    -0.201849 -0.390258  \n",
       "citric acid          0.109241  0.225867  \n",
       "residual sugar       0.042109  0.013756  \n",
       "chlorides           -0.221280 -0.129011  \n",
       "free sulfur dioxide -0.069682 -0.050899  \n",
       "TotalSulphurDioxide -0.206177 -0.184663  \n",
       "density             -0.496083 -0.174741  \n",
       "pH                   0.233096  0.133952  \n",
       "sulphates            0.093223  0.251118  \n",
       "alcohol              1.000000  0.475943  \n",
       "quality              0.475943  1.000000  "
      ]
     },
     "execution_count": 25,
     "metadata": {},
     "output_type": "execute_result"
    }
   ],
   "source": [
    "correlation = df.corr()\n",
    "correlation"
   ]
  },
  {
   "cell_type": "markdown",
   "id": "98107856",
   "metadata": {},
   "source": [
    "Constructing a heatmap to understand the correlation between the columns"
   ]
  },
  {
   "cell_type": "code",
   "execution_count": 26,
   "id": "44669fb3",
   "metadata": {
    "lines_to_next_cell": 2
   },
   "outputs": [
    {
     "data": {
      "text/plain": [
       "<AxesSubplot:>"
      ]
     },
     "execution_count": 26,
     "metadata": {},
     "output_type": "execute_result"
    },
    {
     "data": {
      "image/png": "[encoded data removed]",
      "text/plain": [
       "<Figure size 720x720 with 2 Axes>"
      ]
     },
     "metadata": {
      "needs_background": "light"
     },
     "output_type": "display_data"
    }
   ],
   "source": [
    "plt.figure(figsize = (10,10))\n",
    "sns.heatmap(correlation,cmap = \"twilight_shifted\", cbar = True, square = True, fmt = '.1f',annot = True, annot_kws = {\"size\":8})"
   ]
  },
  {
   "cell_type": "markdown",
   "id": "351fdfcb",
   "metadata": {
    "lines_to_next_cell": 2
   },
   "source": [
    "Data preprocessing"
   ]
  },
  {
   "cell_type": "markdown",
   "id": "2c88fff8",
   "metadata": {},
   "source": [
    "Separating the data and the label"
   ]
  },
  {
   "cell_type": "code",
   "execution_count": 27,
   "id": "aeb4b161",
   "metadata": {
    "lines_to_next_cell": 2
   },
   "outputs": [
    {
     "data": {
      "text/html": [
       "<div>\n",
       "<style scoped>\n",
       "    .dataframe tbody tr th:only-of-type {\n",
       "        vertical-align: middle;\n",
       "    }\n",
       "\n",
       "    .dataframe tbody tr th {\n",
       "        vertical-align: top;\n",
       "    }\n",
       "\n",
       "    .dataframe thead th {\n",
       "        text-align: right;\n",
       "    }\n",
       "</style>\n",
       "<table border=\"1\" class=\"dataframe\">\n",
       "  <thead>\n",
       "    <tr style=\"text-align: right;\">\n",
       "      <th></th>\n",
       "      <th>fixed acidity</th>\n",
       "      <th>volatile acidity</th>\n",
       "      <th>citric acid</th>\n",
       "      <th>residual sugar</th>\n",
       "      <th>chlorides</th>\n",
       "      <th>free sulfur dioxide</th>\n",
       "      <th>TotalSulphurDioxide</th>\n",
       "      <th>density</th>\n",
       "      <th>pH</th>\n",
       "      <th>sulphates</th>\n",
       "      <th>alcohol</th>\n",
       "    </tr>\n",
       "  </thead>\n",
       "  <tbody>\n",
       "    <tr>\n",
       "      <th>0</th>\n",
       "      <td>7.4</td>\n",
       "      <td>0.700</td>\n",
       "      <td>0.00</td>\n",
       "      <td>1.9</td>\n",
       "      <td>0.076</td>\n",
       "      <td>11.0</td>\n",
       "      <td>34.0</td>\n",
       "      <td>0.99780</td>\n",
       "      <td>3.51</td>\n",
       "      <td>0.56</td>\n",
       "      <td>9.4</td>\n",
       "    </tr>\n",
       "    <tr>\n",
       "      <th>1</th>\n",
       "      <td>7.8</td>\n",
       "      <td>0.880</td>\n",
       "      <td>0.00</td>\n",
       "      <td>2.6</td>\n",
       "      <td>0.098</td>\n",
       "      <td>25.0</td>\n",
       "      <td>67.0</td>\n",
       "      <td>0.99680</td>\n",
       "      <td>3.20</td>\n",
       "      <td>0.68</td>\n",
       "      <td>9.8</td>\n",
       "    </tr>\n",
       "    <tr>\n",
       "      <th>2</th>\n",
       "      <td>7.8</td>\n",
       "      <td>0.760</td>\n",
       "      <td>0.04</td>\n",
       "      <td>2.3</td>\n",
       "      <td>0.092</td>\n",
       "      <td>15.0</td>\n",
       "      <td>54.0</td>\n",
       "      <td>0.99700</td>\n",
       "      <td>3.26</td>\n",
       "      <td>0.65</td>\n",
       "      <td>9.8</td>\n",
       "    </tr>\n",
       "    <tr>\n",
       "      <th>3</th>\n",
       "      <td>11.2</td>\n",
       "      <td>0.280</td>\n",
       "      <td>0.56</td>\n",
       "      <td>1.9</td>\n",
       "      <td>0.075</td>\n",
       "      <td>17.0</td>\n",
       "      <td>60.0</td>\n",
       "      <td>0.99800</td>\n",
       "      <td>3.16</td>\n",
       "      <td>0.58</td>\n",
       "      <td>9.8</td>\n",
       "    </tr>\n",
       "    <tr>\n",
       "      <th>4</th>\n",
       "      <td>7.4</td>\n",
       "      <td>0.700</td>\n",
       "      <td>0.00</td>\n",
       "      <td>1.9</td>\n",
       "      <td>0.076</td>\n",
       "      <td>11.0</td>\n",
       "      <td>34.0</td>\n",
       "      <td>0.99780</td>\n",
       "      <td>3.51</td>\n",
       "      <td>0.56</td>\n",
       "      <td>9.4</td>\n",
       "    </tr>\n",
       "    <tr>\n",
       "      <th>...</th>\n",
       "      <td>...</td>\n",
       "      <td>...</td>\n",
       "      <td>...</td>\n",
       "      <td>...</td>\n",
       "      <td>...</td>\n",
       "      <td>...</td>\n",
       "      <td>...</td>\n",
       "      <td>...</td>\n",
       "      <td>...</td>\n",
       "      <td>...</td>\n",
       "      <td>...</td>\n",
       "    </tr>\n",
       "    <tr>\n",
       "      <th>1594</th>\n",
       "      <td>6.2</td>\n",
       "      <td>0.600</td>\n",
       "      <td>0.08</td>\n",
       "      <td>2.0</td>\n",
       "      <td>0.090</td>\n",
       "      <td>32.0</td>\n",
       "      <td>44.0</td>\n",
       "      <td>0.99490</td>\n",
       "      <td>3.52</td>\n",
       "      <td>0.58</td>\n",
       "      <td>10.5</td>\n",
       "    </tr>\n",
       "    <tr>\n",
       "      <th>1595</th>\n",
       "      <td>5.9</td>\n",
       "      <td>0.550</td>\n",
       "      <td>0.10</td>\n",
       "      <td>2.2</td>\n",
       "      <td>0.062</td>\n",
       "      <td>39.0</td>\n",
       "      <td>51.0</td>\n",
       "      <td>0.99512</td>\n",
       "      <td>3.52</td>\n",
       "      <td>0.76</td>\n",
       "      <td>11.2</td>\n",
       "    </tr>\n",
       "    <tr>\n",
       "      <th>1596</th>\n",
       "      <td>6.3</td>\n",
       "      <td>0.510</td>\n",
       "      <td>0.13</td>\n",
       "      <td>2.3</td>\n",
       "      <td>0.076</td>\n",
       "      <td>29.0</td>\n",
       "      <td>40.0</td>\n",
       "      <td>0.99574</td>\n",
       "      <td>3.52</td>\n",
       "      <td>0.75</td>\n",
       "      <td>11.0</td>\n",
       "    </tr>\n",
       "    <tr>\n",
       "      <th>1597</th>\n",
       "      <td>5.9</td>\n",
       "      <td>0.645</td>\n",
       "      <td>0.12</td>\n",
       "      <td>2.0</td>\n",
       "      <td>0.075</td>\n",
       "      <td>32.0</td>\n",
       "      <td>44.0</td>\n",
       "      <td>0.99547</td>\n",
       "      <td>3.52</td>\n",
       "      <td>0.71</td>\n",
       "      <td>10.2</td>\n",
       "    </tr>\n",
       "    <tr>\n",
       "      <th>1598</th>\n",
       "      <td>6.0</td>\n",
       "      <td>0.310</td>\n",
       "      <td>0.47</td>\n",
       "      <td>3.6</td>\n",
       "      <td>0.067</td>\n",
       "      <td>18.0</td>\n",
       "      <td>42.0</td>\n",
       "      <td>0.99549</td>\n",
       "      <td>3.52</td>\n",
       "      <td>0.66</td>\n",
       "      <td>11.0</td>\n",
       "    </tr>\n",
       "  </tbody>\n",
       "</table>\n",
       "<p>1598 rows × 11 columns</p>\n",
       "</div>"
      ],
      "text/plain": [
       "      fixed acidity  volatile acidity  citric acid  residual sugar  chlorides  \\\n",
       "0               7.4             0.700         0.00             1.9      0.076   \n",
       "1               7.8             0.880         0.00             2.6      0.098   \n",
       "2               7.8             0.760         0.04             2.3      0.092   \n",
       "3              11.2             0.280         0.56             1.9      0.075   \n",
       "4               7.4             0.700         0.00             1.9      0.076   \n",
       "...             ...               ...          ...             ...        ...   \n",
       "1594            6.2             0.600         0.08             2.0      0.090   \n",
       "1595            5.9             0.550         0.10             2.2      0.062   \n",
       "1596            6.3             0.510         0.13             2.3      0.076   \n",
       "1597            5.9             0.645         0.12             2.0      0.075   \n",
       "1598            6.0             0.310         0.47             3.6      0.067   \n",
       "\n",
       "      free sulfur dioxide  TotalSulphurDioxide  density    pH  sulphates  \\\n",
       "0                    11.0                 34.0  0.99780  3.51       0.56   \n",
       "1                    25.0                 67.0  0.99680  3.20       0.68   \n",
       "2                    15.0                 54.0  0.99700  3.26       0.65   \n",
       "3                    17.0                 60.0  0.99800  3.16       0.58   \n",
       "4                    11.0                 34.0  0.99780  3.51       0.56   \n",
       "...                   ...                  ...      ...   ...        ...   \n",
       "1594                 32.0                 44.0  0.99490  3.52       0.58   \n",
       "1595                 39.0                 51.0  0.99512  3.52       0.76   \n",
       "1596                 29.0                 40.0  0.99574  3.52       0.75   \n",
       "1597                 32.0                 44.0  0.99547  3.52       0.71   \n",
       "1598                 18.0                 42.0  0.99549  3.52       0.66   \n",
       "\n",
       "      alcohol  \n",
       "0         9.4  \n",
       "1         9.8  \n",
       "2         9.8  \n",
       "3         9.8  \n",
       "4         9.4  \n",
       "...       ...  \n",
       "1594     10.5  \n",
       "1595     11.2  \n",
       "1596     11.0  \n",
       "1597     10.2  \n",
       "1598     11.0  \n",
       "\n",
       "[1598 rows x 11 columns]"
      ]
     },
     "execution_count": 27,
     "metadata": {},
     "output_type": "execute_result"
    }
   ],
   "source": [
    "X = df.drop('quality',axis = 1)\n",
    "X"
   ]
  },
  {
   "cell_type": "markdown",
   "id": "06d0b255",
   "metadata": {},
   "source": [
    "Label Binarization"
   ]
  },
  {
   "cell_type": "code",
   "execution_count": 28,
   "id": "1e96b3b3",
   "metadata": {
    "lines_to_next_cell": 2
   },
   "outputs": [
    {
     "data": {
      "text/plain": [
       "0       0\n",
       "1       0\n",
       "2       0\n",
       "3       0\n",
       "4       0\n",
       "       ..\n",
       "1594    0\n",
       "1595    0\n",
       "1596    0\n",
       "1597    0\n",
       "1598    0\n",
       "Name: quality, Length: 1598, dtype: int64"
      ]
     },
     "execution_count": 28,
     "metadata": {},
     "output_type": "execute_result"
    }
   ],
   "source": [
    "Y = df['quality'].apply(lambda y_value:1 if y_value>=7 else 0)\n",
    "Y"
   ]
  },
  {
   "cell_type": "markdown",
   "id": "86ef58c2",
   "metadata": {},
   "source": [
    "Train and test Split"
   ]
  },
  {
   "cell_type": "code",
   "execution_count": 29,
   "id": "a4270f03",
   "metadata": {
    "lines_to_next_cell": 2
   },
   "outputs": [],
   "source": [
    "X_train, X_test, Y_train,Y_test = train_test_split(X,Y,test_size = 0.2, random_state = 3)"
   ]
  },
  {
   "cell_type": "code",
   "execution_count": 30,
   "id": "16835988",
   "metadata": {
    "lines_to_next_cell": 2
   },
   "outputs": [
    {
     "name": "stdout",
     "output_type": "stream",
     "text": [
      "(1598,) (1278,) (320,)\n"
     ]
    }
   ],
   "source": [
    "print(Y.shape,Y_train.shape,Y_test.shape)"
   ]
  },
  {
   "cell_type": "markdown",
   "id": "1e464703",
   "metadata": {},
   "source": [
    "Model Training\n",
    "\n",
    "(Random Forest Classifier) "
   ]
  },
  {
   "cell_type": "code",
   "execution_count": 31,
   "id": "250a32a7",
   "metadata": {
    "lines_to_next_cell": 2
   },
   "outputs": [],
   "source": [
    "model = RandomForestClassifier()"
   ]
  },
  {
   "cell_type": "markdown",
   "id": "48bbd888",
   "metadata": {},
   "source": [
    "Fitting the data into the model"
   ]
  },
  {
   "cell_type": "code",
   "execution_count": 32,
   "id": "9790df5f",
   "metadata": {
    "lines_to_next_cell": 2
   },
   "outputs": [
    {
     "data": {
      "text/plain": [
       "RandomForestClassifier()"
      ]
     },
     "execution_count": 32,
     "metadata": {},
     "output_type": "execute_result"
    }
   ],
   "source": [
    "model.fit(X_train, Y_train)"
   ]
  },
  {
   "cell_type": "markdown",
   "id": "0c29029a",
   "metadata": {},
   "source": [
    "1. Model Evaluation\n",
    "2. Accuracy on test data"
   ]
  },
  {
   "cell_type": "code",
   "execution_count": 33,
   "id": "f6a73ad5",
   "metadata": {
    "lines_to_next_cell": 2
   },
   "outputs": [],
   "source": [
    "X_test_prediction = model.predict(X_test)\n",
    "test_data_accuracy = accuracy_score(X_test_prediction, Y_test)"
   ]
  },
  {
   "cell_type": "code",
   "execution_count": 34,
   "id": "3e2e4e47",
   "metadata": {
    "lines_to_next_cell": 2
   },
   "outputs": [
    {
     "name": "stdout",
     "output_type": "stream",
     "text": [
      "Accuracy:  0.90625\n"
     ]
    }
   ],
   "source": [
    "print(\"Accuracy: \" , test_data_accuracy)"
   ]
  },
  {
   "cell_type": "code",
   "execution_count": 43,
   "id": "6889c6a2",
   "metadata": {},
   "outputs": [
    {
     "data": {
      "text/plain": [
       "fixed acidity           6.9000\n",
       "volatile acidity        0.5400\n",
       "citric acid             0.0400\n",
       "residual sugar          3.0000\n",
       "chlorides               0.0770\n",
       "free sulfur dioxide     7.0000\n",
       "TotalSulphurDioxide    27.0000\n",
       "density                 0.9987\n",
       "pH                      3.5200\n",
       "sulphates               0.9100\n",
       "alcohol                 9.4000\n",
       "Name: 268, dtype: float64"
      ]
     },
     "execution_count": 43,
     "metadata": {},
     "output_type": "execute_result"
    }
   ],
   "source": [
    "X.iloc[267]"
   ]
  },
  {
   "cell_type": "markdown",
   "id": "e14d58da",
   "metadata": {},
   "source": [
    "### Building a predictive system"
   ]
  },
  {
   "cell_type": "code",
   "execution_count": 50,
   "id": "1b82d427",
   "metadata": {
    "lines_to_next_cell": 2
   },
   "outputs": [],
   "source": [
    "def Quality(): \n",
    "    input_number = int(input(\"Enter the ID of the wine you want to see the quality for: \"))\n",
    "\n",
    "    if input_number < 0 or input_number > len(X):\n",
    "        return \"Invalid Input\"\n",
    "    else: \n",
    "        input_data = X.iloc[input_number,:].values\n",
    "\n",
    "        #reshape the data as we are predicting the label for only one instance\n",
    "        input_data_reshaped = input_data.reshape(1,-1)\n",
    "\n",
    "        prediction = model.predict(input_data_reshaped)\n",
    "        print(prediction)\n",
    "\n",
    "        if prediction[0] == 1:\n",
    "            return \"Good quality Wine\"\n",
    "        else:\n",
    "            return \"Bad quality Wine\""
   ]
  },
  {
   "cell_type": "code",
   "execution_count": 51,
   "id": "d502fece",
   "metadata": {},
   "outputs": [
    {
     "name": "stdout",
     "output_type": "stream",
     "text": [
      "Enter the ID of the wine you want to see the quality for: 7\n",
      "[1]\n"
     ]
    },
    {
     "name": "stderr",
     "output_type": "stream",
     "text": [
      "C:\\Users\\Anujit\\anaconda3\\lib\\site-packages\\sklearn\\base.py:450: UserWarning: X does not have valid feature names, but RandomForestClassifier was fitted with feature names\n",
      "  warnings.warn(\n"
     ]
    },
    {
     "data": {
      "text/plain": [
       "'Good quality Wine'"
      ]
     },
     "execution_count": 51,
     "metadata": {},
     "output_type": "execute_result"
    }
   ],
   "source": [
    "Quality()"
   ]
  }
 ],
 "metadata": {
  "jupytext": {
   "cell_metadata_filter": "-all",
   "encoding": "# coding: utf-8",
   "executable": "/usr/bin/env python",
   "main_language": "python",
   "notebook_metadata_filter": "-all"
  },
  "kernelspec": {
   "display_name": "Python 3 (ipykernel)",
   "language": "python",
   "name": "python3"
  },
  "language_info": {
   "codemirror_mode": {
    "name": "ipython",
    "version": 3
   },
   "file_extension": ".py",
   "mimetype": "text/x-python",
   "name": "python",
   "nbconvert_exporter": "python",
   "pygments_lexer": "ipython3",
   "version": "3.9.12"
  }
 },
 "nbformat": 4,
 "nbformat_minor": 5
}
